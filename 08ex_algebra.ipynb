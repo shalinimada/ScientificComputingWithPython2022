{
 "cells": [
  {
   "cell_type": "markdown",
   "metadata": {},
   "source": [
    "1\\. **PCA on 3D dataset**\n",
    "\n",
    "* Generate a dataset simulating 3 features, each with N entries (N being ${\\cal O}(1000)$). Each feature is made by random numbers generated according the normal distribution $N(\\mu,\\sigma)$ with mean $\\mu_i$ and standard deviation $\\sigma_i$, with $i=1, 2, 3$. Generate the 3 variables $x_{i}$ such that:\n",
    "    * $x_1$ is distributed as $N(0,1)$\n",
    "    * $x_2$ is distributed as $x_1+N(0,3)$\n",
    "    * $x_3$ is given by $2x_1+x_2$\n",
    "* Find the eigenvectors and eigenvalues using the eigendecomposition of the covariance matrix\n",
    "* Find the eigenvectors and eigenvalues using the SVD. Check that the two procedures yield to same result\n",
    "* What percent of the total dataset's variability is explained by the principal components? Given how the dataset was constructed, do these make sense? Reduce the dimensionality of the system so that at least 99% of the total variability is retained\n",
    "* Redefine the data according to the new basis from the PCA\n",
    "* Plot the data, in both the original and the new basis. The figure should have 2 rows (the original and the new basis) and 3 columns (the $[x_0, x_1]$, $[x_0, x_2]$ and $[x_1, x_2]$ projections) of scatter plots."
   ]
  },
  {
   "cell_type": "code",
   "execution_count": 22,
   "metadata": {},
   "outputs": [],
   "source": [
    "import numpy as np\n",
    "import pandas as pd\n",
    "from numpy.random import normal\n",
    "from scipy import linalg as la\n",
    "from matplotlib import pyplot as plt"
   ]
  },
  {
   "cell_type": "code",
   "execution_count": 26,
   "metadata": {},
   "outputs": [],
   "source": [
    "# generate the variable x1 is distributed as 𝑁(0,1)\n",
    "d1 = np.random.normal(loc=0, scale=1, size=1000)\n",
    "x1=pd.DataFrame(d1)\n",
    "# generate the variable x2 as distributed as 𝑥1 +𝑁(0,3)\n",
    "ds = np.random.normal(loc=0, scale=3, size=1000)\n",
    "d2 = d1+ds\n",
    "x2=pd.DataFrame(d2)\n",
    "# generate the variable x3 as distributed as 2*𝑥1+𝑥2\n",
    "d3 = 2*d1+d2\n",
    "x3=pd.DataFrame(d3)\n",
    "frames = [x1,x2,x3]\n",
    "ds = pd.concat(frames)"
   ]
  },
  {
   "cell_type": "code",
   "execution_count": 38,
   "metadata": {},
   "outputs": [
    {
     "name": "stdout",
     "output_type": "stream",
     "text": [
      "Covariance matrix:\n",
      " [[ 0.00477237 -0.00166485 -0.0008517  ...  0.00148273 -0.01138169\n",
      "   0.009607  ]\n",
      " [-0.00166485  0.00058079  0.00029712 ... -0.00051725  0.00397053\n",
      "  -0.00335142]\n",
      " [-0.0008517   0.00029712  0.000152   ... -0.00026462  0.00203123\n",
      "  -0.00171451]\n",
      " ...\n",
      " [ 0.00148273 -0.00051725 -0.00026462 ...  0.00046067 -0.00353619\n",
      "   0.00298481]\n",
      " [-0.01138169  0.00397053  0.00203123 ... -0.00353619  0.02714436\n",
      "  -0.02291187]\n",
      " [ 0.009607   -0.00335142 -0.00171451 ...  0.00298481 -0.02291187\n",
      "   0.01933934]] \n",
      "\n",
      "Eigen values:\n",
      " [ 3.11948971e+01  6.07592493e-15  6.07592493e-15 ...  6.11708704e-24\n",
      " -6.15139313e-25  1.36005201e-23] \n",
      "\n",
      "Eigen vectors:\n",
      " [[-1.23687356e-02+0.j          2.88299623e-03-0.00116672j\n",
      "   2.88299623e-03+0.00116672j ... -1.08491333e-06+0.j\n",
      "   7.61518208e-06+0.j         -1.90575560e-05+0.j        ]\n",
      " [ 4.31485782e-03+0.j          1.07775824e-03-0.00170043j\n",
      "   1.07775824e-03+0.00170043j ...  1.26814485e-07+0.j\n",
      "  -9.21789481e-08+0.j          5.61457239e-08+0.j        ]\n",
      " [ 2.20738279e-03+0.j         -1.17868356e-03+0.00012392j\n",
      "  -1.17868356e-03-0.00012392j ...  3.32034867e-04+0.j\n",
      "   7.35284385e-05+0.j          7.74652224e-04+0.j        ]\n",
      " ...\n",
      " [-3.84285153e-03+0.j         -6.65215463e-03-0.00419823j\n",
      "  -6.65215463e-03+0.00419823j ... -9.55685742e-05+0.j\n",
      "  -7.62910211e-04+0.j         -4.16748960e-03+0.j        ]\n",
      " [ 2.94983695e-02+0.j         -1.57768634e-02-0.00935845j\n",
      "  -1.57768634e-02+0.00935845j ... -1.67807823e-05+0.j\n",
      "  -8.98540424e-05+0.j          2.37799065e-04+0.j        ]\n",
      " [-2.48988365e-02+0.j         -2.32451349e-02+0.0018383j\n",
      "  -2.32451349e-02-0.0018383j  ...  4.76506900e-05+0.j\n",
      "  -1.96809347e-05+0.j         -1.68462602e-04+0.j        ]] \n",
      "\n"
     ]
    }
   ],
   "source": [
    "# Find the eigenvectors and eigenvalues using the eigendecomposition of the covariance matrix\n",
    "cov = np.dot(ds, ds.T)/(1000-1)\n",
    "print(\"Covariance matrix:\\n\", cov,'\\n')\n",
    "l, V = la.eig(cov)\n",
    "l = np.real_if_close(l)\n",
    "print(\"Eigen values:\\n\", l, '\\n')\n",
    "print(\"Eigen vectors:\\n\", V, '\\n')"
   ]
  },
  {
   "cell_type": "code",
   "execution_count": 43,
   "metadata": {},
   "outputs": [
    {
     "name": "stdout",
     "output_type": "stream",
     "text": [
      "Eigen decomposition eigenvalues:\n",
      " [ 3.11948971e+01  6.07592493e-15  6.07592493e-15 ...  6.11708704e-24\n",
      " -6.15139313e-25  1.36005201e-23]\n",
      "SVD of eigenvalues:\n",
      " [31.19489708] \n",
      "\n",
      "Eigen decomposition eigenvectors:\n",
      " [[-1.23687356e-02+0.j          2.88299623e-03-0.00116672j\n",
      "   2.88299623e-03+0.00116672j ... -1.08491333e-06+0.j\n",
      "   7.61518208e-06+0.j         -1.90575560e-05+0.j        ]\n",
      " [ 4.31485782e-03+0.j          1.07775824e-03-0.00170043j\n",
      "   1.07775824e-03+0.00170043j ...  1.26814485e-07+0.j\n",
      "  -9.21789481e-08+0.j          5.61457239e-08+0.j        ]\n",
      " [ 2.20738279e-03+0.j         -1.17868356e-03+0.00012392j\n",
      "  -1.17868356e-03-0.00012392j ...  3.32034867e-04+0.j\n",
      "   7.35284385e-05+0.j          7.74652224e-04+0.j        ]\n",
      " ...\n",
      " [-3.84285153e-03+0.j         -6.65215463e-03-0.00419823j\n",
      "  -6.65215463e-03+0.00419823j ... -9.55685742e-05+0.j\n",
      "  -7.62910211e-04+0.j         -4.16748960e-03+0.j        ]\n",
      " [ 2.94983695e-02+0.j         -1.57768634e-02-0.00935845j\n",
      "  -1.57768634e-02+0.00935845j ... -1.67807823e-05+0.j\n",
      "  -8.98540424e-05+0.j          2.37799065e-04+0.j        ]\n",
      " [-2.48988365e-02+0.j         -2.32451349e-02+0.0018383j\n",
      "  -2.32451349e-02-0.0018383j  ...  4.76506900e-05+0.j\n",
      "  -1.96809347e-05+0.j         -1.68462602e-04+0.j        ]]\n",
      "SVD of eigenvectors:\n",
      " [[ 1.23687356e-02  4.31485782e-03  2.20738279e-03 ... -3.84285153e-03\n",
      "   2.94983695e-02 -2.48988365e-02]\n",
      " [-4.31485782e-03  9.99981609e-01 -9.40817566e-06 ...  1.63787733e-05\n",
      "  -1.25726196e-04  1.06122340e-04]\n",
      " [-2.20738279e-03 -9.40817566e-06  9.99995187e-01 ...  8.37900662e-06\n",
      "  -6.43186527e-05  5.42897675e-05]\n",
      " ...\n",
      " [ 3.84285153e-03  1.63787733e-05  8.37900662e-06 ...  9.99985413e-01\n",
      "   1.11972891e-04 -9.45135194e-05]\n",
      " [-2.94983695e-02 -1.25726196e-04 -6.43186527e-05 ...  1.11972891e-04\n",
      "   9.99140477e-01  7.25501542e-04]\n",
      " [ 2.48988365e-02  1.06122340e-04  5.42897675e-05 ... -9.45135194e-05\n",
      "   7.25501542e-04  9.99387622e-01]] \n",
      "\n"
     ]
    }
   ],
   "source": [
    "# Find the eigenvectors and eigenvalues using the SVD\n",
    "U, S, Vt = np.linalg.svd(ds)\n",
    "# Rescaling the SVD spectrum to get the eigenvalues\n",
    "n=1000\n",
    "l_svd = S**2/(n-1)\n",
    "V_svd = U\n",
    "# Check that the two procedures yield to same result\n",
    "print(\"Eigen decomposition eigenvalues:\\n\", l)\n",
    "print(\"SVD of eigenvalues:\\n\", l_svd, '\\n')\n",
    "print(\"Eigen decomposition eigenvectors:\\n\", V)\n",
    "print(\"SVD of eigenvectors:\\n\", V_svd, '\\n')"
   ]
  },
  {
   "cell_type": "code",
   "execution_count": null,
   "metadata": {},
   "outputs": [],
   "source": []
  },
  {
   "cell_type": "markdown",
   "metadata": {},
   "source": [
    "2\\. **PCA on a nD dataset**\n",
    "\n",
    "* Start from the dataset you have genereted in the previous exercise and add uncorrelated random noise. Such noise should be represented by other 10 uncorrelated variables normally distributed, with a standard deviation much smaller (e.g. a factor 20) than those used to generate the $x_1$ and $x_2$. Repeat the PCA procedure and compare the results with what you have obtained before."
   ]
  },
  {
   "cell_type": "code",
   "execution_count": null,
   "metadata": {},
   "outputs": [],
   "source": []
  },
  {
   "cell_type": "markdown",
   "metadata": {},
   "source": [
    "3\\. **Optional**: **PCA on the MAGIC dataset**\n",
    "\n",
    "Perform a PCA on the magic04.data dataset."
   ]
  },
  {
   "cell_type": "code",
   "execution_count": null,
   "metadata": {},
   "outputs": [],
   "source": [
    "# get the dataset and its description on the proper data directory\n",
    "#!wget https://archive.ics.uci.edu/ml/machine-learning-databases/magic/magic04.data -P data/\n",
    "#!wget https://archive.ics.uci.edu/ml/machine-learning-databases/magic/magic04.names -P data/ "
   ]
  },
  {
   "cell_type": "code",
   "execution_count": null,
   "metadata": {},
   "outputs": [],
   "source": []
  },
  {
   "cell_type": "code",
   "execution_count": null,
   "metadata": {},
   "outputs": [],
   "source": []
  },
  {
   "cell_type": "code",
   "execution_count": null,
   "metadata": {},
   "outputs": [],
   "source": []
  }
 ],
 "metadata": {
  "kernelspec": {
   "display_name": "Python 3 (ipykernel)",
   "language": "python",
   "name": "python3"
  },
  "language_info": {
   "codemirror_mode": {
    "name": "ipython",
    "version": 3
   },
   "file_extension": ".py",
   "mimetype": "text/x-python",
   "name": "python",
   "nbconvert_exporter": "python",
   "pygments_lexer": "ipython3",
   "version": "3.9.12"
  }
 },
 "nbformat": 4,
 "nbformat_minor": 2
}
